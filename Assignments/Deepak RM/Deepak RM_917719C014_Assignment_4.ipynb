{
  "cells": [
    {
      "cell_type": "markdown",
      "id": "1b03c8b3",
      "metadata": {
        "id": "1b03c8b3"
      },
      "source": [
        "<h1><center>Assignment 4</center></h1>"
      ]
    },
    {
      "cell_type": "markdown",
      "id": "c2cc27b7",
      "metadata": {
        "id": "c2cc27b7"
      },
      "source": [
        "### Problem Statement - Customer Segmentation Analysis:\n",
        "#### You own the mall and want to understand the customers who can quickly converge [Target Customers] so that the insight can be given to the marketing team and plan the strategy accordingly."
      ]
    },
    {
      "cell_type": "markdown",
      "id": "e6f5812b",
      "metadata": {
        "id": "e6f5812b"
      },
      "source": [
        "### 1) Importing the packages"
      ]
    },
    {
      "cell_type": "code",
      "execution_count": null,
      "id": "de67c11d",
      "metadata": {
        "id": "de67c11d"
      },
      "outputs": [],
      "source": [
        "import pandas as pd\n",
        "import numpy as np\n",
        "import matplotlib.pyplot as plt\n",
        "import seaborn as sns"
      ]
    },
    {
      "cell_type": "markdown",
      "id": "a97e1fdd",
      "metadata": {
        "id": "a97e1fdd"
      },
      "source": [
        "### 2) Loading the dataset"
      ]
    },
    {
      "cell_type": "code",
      "execution_count": null,
      "id": "a4d93eea",
      "metadata": {
        "id": "a4d93eea"
      },
      "outputs": [],
      "source": [
        "df=pd.read_csv('Mall_Customers.csv')"
      ]
    },
    {
      "cell_type": "code",
      "execution_count": null,
      "id": "363ecb88",
      "metadata": {
        "id": "363ecb88",
        "outputId": "0476808d-eebb-4a2d-b2a0-6e552c3dfc93"
      },
      "outputs": [
        {
          "data": {
            "text/html": [
              "<div>\n",
              "<style scoped>\n",
              "    .dataframe tbody tr th:only-of-type {\n",
              "        vertical-align: middle;\n",
              "    }\n",
              "\n",
              "    .dataframe tbody tr th {\n",
              "        vertical-align: top;\n",
              "    }\n",
              "\n",
              "    .dataframe thead th {\n",
              "        text-align: right;\n",
              "    }\n",
              "</style>\n",
              "<table border=\"1\" class=\"dataframe\">\n",
              "  <thead>\n",
              "    <tr style=\"text-align: right;\">\n",
              "      <th></th>\n",
              "      <th>CustomerID</th>\n",
              "      <th>Gender</th>\n",
              "      <th>Age</th>\n",
              "      <th>Annual Income (k$)</th>\n",
              "      <th>Spending Score (1-100)</th>\n",
              "    </tr>\n",
              "  </thead>\n",
              "  <tbody>\n",
              "    <tr>\n",
              "      <th>0</th>\n",
              "      <td>1</td>\n",
              "      <td>Male</td>\n",
              "      <td>19</td>\n",
              "      <td>15</td>\n",
              "      <td>39</td>\n",
              "    </tr>\n",
              "    <tr>\n",
              "      <th>1</th>\n",
              "      <td>2</td>\n",
              "      <td>Male</td>\n",
              "      <td>21</td>\n",
              "      <td>15</td>\n",
              "      <td>81</td>\n",
              "    </tr>\n",
              "    <tr>\n",
              "      <th>2</th>\n",
              "      <td>3</td>\n",
              "      <td>Female</td>\n",
              "      <td>20</td>\n",
              "      <td>16</td>\n",
              "      <td>6</td>\n",
              "    </tr>\n",
              "    <tr>\n",
              "      <th>3</th>\n",
              "      <td>4</td>\n",
              "      <td>Female</td>\n",
              "      <td>23</td>\n",
              "      <td>16</td>\n",
              "      <td>77</td>\n",
              "    </tr>\n",
              "    <tr>\n",
              "      <th>4</th>\n",
              "      <td>5</td>\n",
              "      <td>Female</td>\n",
              "      <td>31</td>\n",
              "      <td>17</td>\n",
              "      <td>40</td>\n",
              "    </tr>\n",
              "  </tbody>\n",
              "</table>\n",
              "</div>"
            ],
            "text/plain": [
              "   CustomerID  Gender  Age  Annual Income (k$)  Spending Score (1-100)\n",
              "0           1    Male   19                  15                      39\n",
              "1           2    Male   21                  15                      81\n",
              "2           3  Female   20                  16                       6\n",
              "3           4  Female   23                  16                      77\n",
              "4           5  Female   31                  17                      40"
            ]
          },
          "execution_count": 3,
          "metadata": {},
          "output_type": "execute_result"
        }
      ],
      "source": [
        "df.head()"
      ]
    },
    {
      "cell_type": "markdown",
      "id": "968f1c41",
      "metadata": {
        "id": "968f1c41"
      },
      "source": [
        "### 3) Data visualization"
      ]
    },
    {
      "cell_type": "markdown",
      "id": "f3b93360",
      "metadata": {
        "id": "f3b93360"
      },
      "source": [
        "#### 3.1) Univariate Analysis"
      ]
    },
    {
      "cell_type": "code",
      "execution_count": null,
      "id": "406b03ef",
      "metadata": {
        "id": "406b03ef",
        "outputId": "a71eadfc-8d6b-4f16-a725-24d296035d1c"
      },
      "outputs": [
        {
          "data": {
            "text/plain": [
              "Text(0, 0.5, 'Count')"
            ]
          },
          "execution_count": 4,
          "metadata": {},
          "output_type": "execute_result"
        },
        {
          "data": {
            "image/png": "[encoded data removed]",
            "text/plain": [
              "<Figure size 432x288 with 1 Axes>"
            ]
          },
          "metadata": {
            "needs_background": "light"
          },
          "output_type": "display_data"
        }
      ],
      "source": [
        "plt.hist(df['Age'],color='red')\n",
        "plt.xlabel('Age')\n",
        "plt.ylabel('Count')"
      ]
    },
    {
      "cell_type": "code",
      "execution_count": null,
      "id": "acd43922",
      "metadata": {
        "id": "acd43922",
        "outputId": "3be7e72b-e9c6-4f4f-cd13-f6d9910b450c"
      },
      "outputs": [
        {
          "data": {
            "text/plain": [
              "Text(0, 0.5, 'Count')"
            ]
          },
          "execution_count": 5,
          "metadata": {},
          "output_type": "execute_result"
        },
        {
          "data": {
            "image/png": "[encoded data removed]",
            "text/plain": [
              "<Figure size 432x288 with 1 Axes>"
            ]
          },
          "metadata": {},
          "output_type": "display_data"
        }
      ],
      "source": [
        "plt.pie(df['Gender'].value_counts(), labels = df['Gender'].value_counts().index)\n",
        "plt.title('Gender Statistics')\n",
        "plt.xlabel('Gender')\n",
        "plt.ylabel('Count')"
      ]
    },
    {
      "cell_type": "code",
      "execution_count": null,
      "id": "bae01058",
      "metadata": {
        "id": "bae01058",
        "outputId": "589efe6e-783f-4cd3-bfa5-43bb897f41ae"
      },
      "outputs": [
        {
          "data": {
            "text/plain": [
              "<AxesSubplot:xlabel='Annual Income (k$)', ylabel='Count'>"
            ]
          },
          "execution_count": 6,
          "metadata": {},
          "output_type": "execute_result"
        },
        {
          "data": {
            "image/png": "[encoded data removed]",
            "text/plain": [
              "<Figure size 432x288 with 1 Axes>"
            ]
          },
          "metadata": {
            "needs_background": "light"
          },
          "output_type": "display_data"
        }
      ],
      "source": [
        "sns.histplot(df['Annual Income (k$)'])"
      ]
    },
    {
      "cell_type": "code",
      "execution_count": null,
      "id": "3c2b29ee",
      "metadata": {
        "id": "3c2b29ee",
        "outputId": "8fd1c71d-90cb-44cd-b01c-dd0847ef952e"
      },
      "outputs": [
        {
          "name": "stderr",
          "output_type": "stream",
          "text": [
            "C:\\ProgramData\\Anaconda3\\lib\\site-packages\\seaborn\\distributions.py:2619: FutureWarning: `distplot` is a deprecated function and will be removed in a future version. Please adapt your code to use either `displot` (a figure-level function with similar flexibility) or `histplot` (an axes-level function for histograms).\n",
            "  warnings.warn(msg, FutureWarning)\n"
          ]
        },
        {
          "data": {
            "text/plain": [
              "<AxesSubplot:xlabel='Age', ylabel='Density'>"
            ]
          },
          "execution_count": 7,
          "metadata": {},
          "output_type": "execute_result"
        },
        {
          "data": {
            "image/png": "[encoded data removed]",
            "text/plain": [
              "<Figure size 432x288 with 1 Axes>"
            ]
          },
          "metadata": {
            "needs_background": "light"
          },
          "output_type": "display_data"
        }
      ],
      "source": [
        "sns.distplot(df['Age'])"
      ]
    },
    {
      "cell_type": "code",
      "execution_count": null,
      "id": "10d9f77d",
      "metadata": {
        "id": "10d9f77d",
        "outputId": "833cd9c1-4df5-477e-be2f-1b6d9f27ea10"
      },
      "outputs": [
        {
          "name": "stderr",
          "output_type": "stream",
          "text": [
            "C:\\ProgramData\\Anaconda3\\lib\\site-packages\\seaborn\\_decorators.py:36: FutureWarning: Pass the following variable as a keyword arg: x. From version 0.12, the only valid positional argument will be `data`, and passing other arguments without an explicit keyword will result in an error or misinterpretation.\n",
            "  warnings.warn(\n"
          ]
        },
        {
          "data": {
            "text/plain": [
              "<AxesSubplot:xlabel='Spending Score (1-100)'>"
            ]
          },
          "execution_count": 8,
          "metadata": {},
          "output_type": "execute_result"
        },
        {
          "data": {
            "image/png": "[encoded data removed]",
            "text/plain": [
              "<Figure size 432x288 with 1 Axes>"
            ]
          },
          "metadata": {
            "needs_background": "light"
          },
          "output_type": "display_data"
        }
      ],
      "source": [
        "sns.boxplot(df['Spending Score (1-100)'])"
      ]
    },
    {
      "cell_type": "markdown",
      "id": "961023bf",
      "metadata": {
        "id": "961023bf"
      },
      "source": [
        "#### 3.2) Bivariate Analysis"
      ]
    },
    {
      "cell_type": "code",
      "execution_count": null,
      "id": "01602b90",
      "metadata": {
        "id": "01602b90",
        "outputId": "455d90cd-dcfa-4a68-c718-adf54c3ef293"
      },
      "outputs": [
        {
          "data": {
            "text/plain": [
              "Text(0, 0.5, 'Spending Score (1-100)')"
            ]
          },
          "execution_count": 9,
          "metadata": {},
          "output_type": "execute_result"
        },
        {
          "data": {
            "image/png": "[encoded data removed]",
            "text/plain": [
              "<Figure size 432x288 with 1 Axes>"
            ]
          },
          "metadata": {
            "needs_background": "light"
          },
          "output_type": "display_data"
        }
      ],
      "source": [
        "plt.scatter(df['Annual Income (k$)'], df['Spending Score (1-100)'])\n",
        "plt.title('Annual Income (k$) and Spending Score (1-100) Analysis')\n",
        "plt.xlabel('Annual Income (k$)')\n",
        "plt.ylabel('Spending Score (1-100)')"
      ]
    },
    {
      "cell_type": "code",
      "execution_count": null,
      "id": "db48bb03",
      "metadata": {
        "id": "db48bb03",
        "outputId": "b9452343-cc24-4285-8cc1-aab10ebfa6ff"
      },
      "outputs": [
        {
          "name": "stderr",
          "output_type": "stream",
          "text": [
            "C:\\ProgramData\\Anaconda3\\lib\\site-packages\\seaborn\\_decorators.py:36: FutureWarning: Pass the following variables as keyword args: x, y. From version 0.12, the only valid positional argument will be `data`, and passing other arguments without an explicit keyword will result in an error or misinterpretation.\n",
            "  warnings.warn(\n"
          ]
        },
        {
          "data": {
            "text/plain": [
              "<AxesSubplot:xlabel='Annual Income (k$)', ylabel='Spending Score (1-100)'>"
            ]
          },
          "execution_count": 10,
          "metadata": {},
          "output_type": "execute_result"
        },
        {
          "data": {
            "image/png": "[encoded data removed]",
            "text/plain": [
              "<Figure size 432x288 with 1 Axes>"
            ]
          },
          "metadata": {
            "needs_background": "light"
          },
          "output_type": "display_data"
        }
      ],
      "source": [
        "sns.lineplot(df['Annual Income (k$)'], df['Spending Score (1-100)'], color='g')"
      ]
    },
    {
      "cell_type": "code",
      "execution_count": null,
      "id": "28e36612",
      "metadata": {
        "id": "28e36612",
        "outputId": "4e933c3e-61d7-4af2-dabe-cddbb52e763e"
      },
      "outputs": [
        {
          "data": {
            "text/plain": [
              "<AxesSubplot:xlabel='Gender', ylabel='Annual Income (k$)'>"
            ]
          },
          "execution_count": 11,
          "metadata": {},
          "output_type": "execute_result"
        },
        {
          "data": {
            "image/png": "[encoded data removed]",
            "text/plain": [
              "<Figure size 432x288 with 1 Axes>"
            ]
          },
          "metadata": {
            "needs_background": "light"
          },
          "output_type": "display_data"
        }
      ],
      "source": [
        "X=df['Gender']\n",
        "Y=df['Annual Income (k$)']\n",
        "sns.barplot(x=X,y=Y)"
      ]
    },
    {
      "cell_type": "markdown",
      "id": "7fbe168e",
      "metadata": {
        "id": "7fbe168e"
      },
      "source": [
        "#### 3.3) Multivariate Analysis"
      ]
    },
    {
      "cell_type": "code",
      "execution_count": null,
      "id": "d41d55c7",
      "metadata": {
        "id": "d41d55c7",
        "outputId": "a387389e-8cb9-44bb-9656-592c69b0b6cf"
      },
      "outputs": [
        {
          "data": {
            "text/plain": [
              "<AxesSubplot:>"
            ]
          },
          "execution_count": 12,
          "metadata": {},
          "output_type": "execute_result"
        },
        {
          "data": {
            "image/png": "[encoded data removed]",
            "text/plain": [
              "<Figure size 432x288 with 2 Axes>"
            ]
          },
          "metadata": {
            "needs_background": "light"
          },
          "output_type": "display_data"
        }
      ],
      "source": [
        "sns.heatmap(df.corr(),annot=True)"
      ]
    },
    {
      "cell_type": "code",
      "execution_count": null,
      "id": "98e8a320",
      "metadata": {
        "id": "98e8a320",
        "outputId": "7cd386d2-c76e-4bd0-e475-71e3c36df6b1"
      },
      "outputs": [
        {
          "data": {
            "text/plain": [
              "<seaborn.axisgrid.PairGrid at 0x22b511bc790>"
            ]
          },
          "execution_count": 13,
          "metadata": {},
          "output_type": "execute_result"
        },
        {
          "data": {
            "image/png": "[encoded data removed]",
            "text/plain": [
              "<Figure size 720x720 with 20 Axes>"
            ]
          },
          "metadata": {
            "needs_background": "light"
          },
          "output_type": "display_data"
        }
      ],
      "source": [
        "sns.pairplot(df)"
      ]
    },
    {
      "cell_type": "code",
      "execution_count": null,
      "id": "e17fde54",
      "metadata": {
        "id": "e17fde54",
        "outputId": "2af7849f-f2cd-4721-c8bf-2f5194bf6dc9"
      },
      "outputs": [
        {
          "data": {
            "text/plain": [
              "<seaborn.axisgrid.PairGrid at 0x22b533628b0>"
            ]
          },
          "execution_count": 14,
          "metadata": {},
          "output_type": "execute_result"
        },
        {
          "data": {
            "image/png": "[encoded data removed]",
            "text/plain": [
              "<Figure size 540x540 with 12 Axes>"
            ]
          },
          "metadata": {
            "needs_background": "light"
          },
          "output_type": "display_data"
        }
      ],
      "source": [
        "sns.pairplot(data=df[[\"Age\", \"Gender\",\"Annual Income (k$)\",\"Spending Score (1-100)\"]])"
      ]
    },
    {
      "cell_type": "markdown",
      "id": "e6b1d150",
      "metadata": {
        "id": "e6b1d150"
      },
      "source": [
        "### 4) Descriptive Statistics on Data Set"
      ]
    },
    {
      "cell_type": "code",
      "execution_count": null,
      "id": "9ad7b5db",
      "metadata": {
        "id": "9ad7b5db",
        "outputId": "bc90da04-c760-46dc-957a-0d0d977bf9f9"
      },
      "outputs": [
        {
          "data": {
            "text/html": [
              "<div>\n",
              "<style scoped>\n",
              "    .dataframe tbody tr th:only-of-type {\n",
              "        vertical-align: middle;\n",
              "    }\n",
              "\n",
              "    .dataframe tbody tr th {\n",
              "        vertical-align: top;\n",
              "    }\n",
              "\n",
              "    .dataframe thead th {\n",
              "        text-align: right;\n",
              "    }\n",
              "</style>\n",
              "<table border=\"1\" class=\"dataframe\">\n",
              "  <thead>\n",
              "    <tr style=\"text-align: right;\">\n",
              "      <th></th>\n",
              "      <th>CustomerID</th>\n",
              "      <th>Age</th>\n",
              "      <th>Annual Income (k$)</th>\n",
              "      <th>Spending Score (1-100)</th>\n",
              "    </tr>\n",
              "  </thead>\n",
              "  <tbody>\n",
              "    <tr>\n",
              "      <th>count</th>\n",
              "      <td>200.000000</td>\n",
              "      <td>200.000000</td>\n",
              "      <td>200.000000</td>\n",
              "      <td>200.000000</td>\n",
              "    </tr>\n",
              "    <tr>\n",
              "      <th>mean</th>\n",
              "      <td>100.500000</td>\n",
              "      <td>38.850000</td>\n",
              "      <td>60.560000</td>\n",
              "      <td>50.200000</td>\n",
              "    </tr>\n",
              "    <tr>\n",
              "      <th>std</th>\n",
              "      <td>57.879185</td>\n",
              "      <td>13.969007</td>\n",
              "      <td>26.264721</td>\n",
              "      <td>25.823522</td>\n",
              "    </tr>\n",
              "    <tr>\n",
              "      <th>min</th>\n",
              "      <td>1.000000</td>\n",
              "      <td>18.000000</td>\n",
              "      <td>15.000000</td>\n",
              "      <td>1.000000</td>\n",
              "    </tr>\n",
              "    <tr>\n",
              "      <th>25%</th>\n",
              "      <td>50.750000</td>\n",
              "      <td>28.750000</td>\n",
              "      <td>41.500000</td>\n",
              "      <td>34.750000</td>\n",
              "    </tr>\n",
              "    <tr>\n",
              "      <th>50%</th>\n",
              "      <td>100.500000</td>\n",
              "      <td>36.000000</td>\n",
              "      <td>61.500000</td>\n",
              "      <td>50.000000</td>\n",
              "    </tr>\n",
              "    <tr>\n",
              "      <th>75%</th>\n",
              "      <td>150.250000</td>\n",
              "      <td>49.000000</td>\n",
              "      <td>78.000000</td>\n",
              "      <td>73.000000</td>\n",
              "    </tr>\n",
              "    <tr>\n",
              "      <th>max</th>\n",
              "      <td>200.000000</td>\n",
              "      <td>70.000000</td>\n",
              "      <td>137.000000</td>\n",
              "      <td>99.000000</td>\n",
              "    </tr>\n",
              "  </tbody>\n",
              "</table>\n",
              "</div>"
            ],
            "text/plain": [
              "       CustomerID         Age  Annual Income (k$)  Spending Score (1-100)\n",
              "count  200.000000  200.000000          200.000000              200.000000\n",
              "mean   100.500000   38.850000           60.560000               50.200000\n",
              "std     57.879185   13.969007           26.264721               25.823522\n",
              "min      1.000000   18.000000           15.000000                1.000000\n",
              "25%     50.750000   28.750000           41.500000               34.750000\n",
              "50%    100.500000   36.000000           61.500000               50.000000\n",
              "75%    150.250000   49.000000           78.000000               73.000000\n",
              "max    200.000000   70.000000          137.000000               99.000000"
            ]
          },
          "execution_count": 15,
          "metadata": {},
          "output_type": "execute_result"
        }
      ],
      "source": [
        "df.describe()"
      ]
    },
    {
      "cell_type": "code",
      "execution_count": null,
      "id": "e23a19de",
      "metadata": {
        "id": "e23a19de",
        "outputId": "9543a21d-1776-4532-b176-76569f24a866"
      },
      "outputs": [
        {
          "name": "stdout",
          "output_type": "stream",
          "text": [
            "<class 'pandas.core.frame.DataFrame'>\n",
            "RangeIndex: 200 entries, 0 to 199\n",
            "Data columns (total 5 columns):\n",
            " #   Column                  Non-Null Count  Dtype \n",
            "---  ------                  --------------  ----- \n",
            " 0   CustomerID              200 non-null    int64 \n",
            " 1   Gender                  200 non-null    object\n",
            " 2   Age                     200 non-null    int64 \n",
            " 3   Annual Income (k$)      200 non-null    int64 \n",
            " 4   Spending Score (1-100)  200 non-null    int64 \n",
            "dtypes: int64(4), object(1)\n",
            "memory usage: 7.9+ KB\n"
          ]
        }
      ],
      "source": [
        "df.info()"
      ]
    },
    {
      "cell_type": "code",
      "execution_count": null,
      "id": "0dadbe85",
      "metadata": {
        "id": "0dadbe85",
        "outputId": "3e162733-1e31-47da-afc8-2a500f14cb42"
      },
      "outputs": [
        {
          "data": {
            "text/html": [
              "<div>\n",
              "<style scoped>\n",
              "    .dataframe tbody tr th:only-of-type {\n",
              "        vertical-align: middle;\n",
              "    }\n",
              "\n",
              "    .dataframe tbody tr th {\n",
              "        vertical-align: top;\n",
              "    }\n",
              "\n",
              "    .dataframe thead th {\n",
              "        text-align: right;\n",
              "    }\n",
              "</style>\n",
              "<table border=\"1\" class=\"dataframe\">\n",
              "  <thead>\n",
              "    <tr style=\"text-align: right;\">\n",
              "      <th></th>\n",
              "      <th>CustomerID</th>\n",
              "      <th>Gender</th>\n",
              "      <th>Age</th>\n",
              "      <th>Annual Income (k$)</th>\n",
              "      <th>Spending Score (1-100)</th>\n",
              "    </tr>\n",
              "  </thead>\n",
              "  <tbody>\n",
              "    <tr>\n",
              "      <th>0</th>\n",
              "      <td>1</td>\n",
              "      <td>Female</td>\n",
              "      <td>32.0</td>\n",
              "      <td>54.0</td>\n",
              "      <td>42.0</td>\n",
              "    </tr>\n",
              "    <tr>\n",
              "      <th>1</th>\n",
              "      <td>2</td>\n",
              "      <td>NaN</td>\n",
              "      <td>NaN</td>\n",
              "      <td>78.0</td>\n",
              "      <td>NaN</td>\n",
              "    </tr>\n",
              "    <tr>\n",
              "      <th>2</th>\n",
              "      <td>3</td>\n",
              "      <td>NaN</td>\n",
              "      <td>NaN</td>\n",
              "      <td>NaN</td>\n",
              "      <td>NaN</td>\n",
              "    </tr>\n",
              "    <tr>\n",
              "      <th>3</th>\n",
              "      <td>4</td>\n",
              "      <td>NaN</td>\n",
              "      <td>NaN</td>\n",
              "      <td>NaN</td>\n",
              "      <td>NaN</td>\n",
              "    </tr>\n",
              "    <tr>\n",
              "      <th>4</th>\n",
              "      <td>5</td>\n",
              "      <td>NaN</td>\n",
              "      <td>NaN</td>\n",
              "      <td>NaN</td>\n",
              "      <td>NaN</td>\n",
              "    </tr>\n",
              "    <tr>\n",
              "      <th>...</th>\n",
              "      <td>...</td>\n",
              "      <td>...</td>\n",
              "      <td>...</td>\n",
              "      <td>...</td>\n",
              "      <td>...</td>\n",
              "    </tr>\n",
              "    <tr>\n",
              "      <th>195</th>\n",
              "      <td>196</td>\n",
              "      <td>NaN</td>\n",
              "      <td>NaN</td>\n",
              "      <td>NaN</td>\n",
              "      <td>NaN</td>\n",
              "    </tr>\n",
              "    <tr>\n",
              "      <th>196</th>\n",
              "      <td>197</td>\n",
              "      <td>NaN</td>\n",
              "      <td>NaN</td>\n",
              "      <td>NaN</td>\n",
              "      <td>NaN</td>\n",
              "    </tr>\n",
              "    <tr>\n",
              "      <th>197</th>\n",
              "      <td>198</td>\n",
              "      <td>NaN</td>\n",
              "      <td>NaN</td>\n",
              "      <td>NaN</td>\n",
              "      <td>NaN</td>\n",
              "    </tr>\n",
              "    <tr>\n",
              "      <th>198</th>\n",
              "      <td>199</td>\n",
              "      <td>NaN</td>\n",
              "      <td>NaN</td>\n",
              "      <td>NaN</td>\n",
              "      <td>NaN</td>\n",
              "    </tr>\n",
              "    <tr>\n",
              "      <th>199</th>\n",
              "      <td>200</td>\n",
              "      <td>NaN</td>\n",
              "      <td>NaN</td>\n",
              "      <td>NaN</td>\n",
              "      <td>NaN</td>\n",
              "    </tr>\n",
              "  </tbody>\n",
              "</table>\n",
              "<p>200 rows × 5 columns</p>\n",
              "</div>"
            ],
            "text/plain": [
              "     CustomerID  Gender   Age  Annual Income (k$)  Spending Score (1-100)\n",
              "0             1  Female  32.0                54.0                    42.0\n",
              "1             2     NaN   NaN                78.0                     NaN\n",
              "2             3     NaN   NaN                 NaN                     NaN\n",
              "3             4     NaN   NaN                 NaN                     NaN\n",
              "4             5     NaN   NaN                 NaN                     NaN\n",
              "..          ...     ...   ...                 ...                     ...\n",
              "195         196     NaN   NaN                 NaN                     NaN\n",
              "196         197     NaN   NaN                 NaN                     NaN\n",
              "197         198     NaN   NaN                 NaN                     NaN\n",
              "198         199     NaN   NaN                 NaN                     NaN\n",
              "199         200     NaN   NaN                 NaN                     NaN\n",
              "\n",
              "[200 rows x 5 columns]"
            ]
          },
          "execution_count": 17,
          "metadata": {},
          "output_type": "execute_result"
        }
      ],
      "source": [
        "df.mode()"
      ]
    },
    {
      "cell_type": "code",
      "execution_count": null,
      "id": "79a3a6b2",
      "metadata": {
        "id": "79a3a6b2",
        "outputId": "4f7a8e7b-1f9e-4f00-d302-f30a4a1b575a"
      },
      "outputs": [
        {
          "data": {
            "text/html": [
              "<div>\n",
              "<style scoped>\n",
              "    .dataframe tbody tr th:only-of-type {\n",
              "        vertical-align: middle;\n",
              "    }\n",
              "\n",
              "    .dataframe tbody tr th {\n",
              "        vertical-align: top;\n",
              "    }\n",
              "\n",
              "    .dataframe thead th {\n",
              "        text-align: right;\n",
              "    }\n",
              "</style>\n",
              "<table border=\"1\" class=\"dataframe\">\n",
              "  <thead>\n",
              "    <tr style=\"text-align: right;\">\n",
              "      <th></th>\n",
              "      <th>Gender</th>\n",
              "      <th>Age</th>\n",
              "      <th>Annual Income (k$)</th>\n",
              "      <th>Spending Score (1-100)</th>\n",
              "    </tr>\n",
              "  </thead>\n",
              "  <tbody>\n",
              "    <tr>\n",
              "      <th>0</th>\n",
              "      <td>Male</td>\n",
              "      <td>19</td>\n",
              "      <td>15</td>\n",
              "      <td>39</td>\n",
              "    </tr>\n",
              "    <tr>\n",
              "      <th>1</th>\n",
              "      <td>Male</td>\n",
              "      <td>21</td>\n",
              "      <td>15</td>\n",
              "      <td>81</td>\n",
              "    </tr>\n",
              "    <tr>\n",
              "      <th>2</th>\n",
              "      <td>Female</td>\n",
              "      <td>20</td>\n",
              "      <td>16</td>\n",
              "      <td>6</td>\n",
              "    </tr>\n",
              "    <tr>\n",
              "      <th>3</th>\n",
              "      <td>Female</td>\n",
              "      <td>23</td>\n",
              "      <td>16</td>\n",
              "      <td>77</td>\n",
              "    </tr>\n",
              "    <tr>\n",
              "      <th>4</th>\n",
              "      <td>Female</td>\n",
              "      <td>31</td>\n",
              "      <td>17</td>\n",
              "      <td>40</td>\n",
              "    </tr>\n",
              "  </tbody>\n",
              "</table>\n",
              "</div>"
            ],
            "text/plain": [
              "   Gender  Age  Annual Income (k$)  Spending Score (1-100)\n",
              "0    Male   19                  15                      39\n",
              "1    Male   21                  15                      81\n",
              "2  Female   20                  16                       6\n",
              "3  Female   23                  16                      77\n",
              "4  Female   31                  17                      40"
            ]
          },
          "execution_count": 18,
          "metadata": {},
          "output_type": "execute_result"
        }
      ],
      "source": [
        "df.drop('CustomerID',axis=1,inplace=True)\n",
        "df.head()"
      ]
    },
    {
      "cell_type": "code",
      "execution_count": null,
      "id": "238d7edd",
      "metadata": {
        "id": "238d7edd",
        "outputId": "2b2a314a-9ce0-4a9c-a321-9c08420f548f"
      },
      "outputs": [
        {
          "name": "stderr",
          "output_type": "stream",
          "text": [
            "C:\\Users\\VARSHINI SANKAR\\AppData\\Local\\Temp\\ipykernel_2704\\3698961737.py:1: FutureWarning: Dropping of nuisance columns in DataFrame reductions (with 'numeric_only=None') is deprecated; in a future version this will raise TypeError.  Select only valid columns before calling the reduction.\n",
            "  df.mean()\n"
          ]
        },
        {
          "data": {
            "text/plain": [
              "Age                       38.85\n",
              "Annual Income (k$)        60.56\n",
              "Spending Score (1-100)    50.20\n",
              "dtype: float64"
            ]
          },
          "execution_count": 19,
          "metadata": {},
          "output_type": "execute_result"
        }
      ],
      "source": [
        "df.mean()"
      ]
    },
    {
      "cell_type": "code",
      "execution_count": null,
      "id": "7749e514",
      "metadata": {
        "id": "7749e514",
        "outputId": "2f367804-adc7-4fce-84d5-23c940afb275"
      },
      "outputs": [
        {
          "name": "stderr",
          "output_type": "stream",
          "text": [
            "C:\\Users\\VARSHINI SANKAR\\AppData\\Local\\Temp\\ipykernel_2704\\530051474.py:1: FutureWarning: Dropping of nuisance columns in DataFrame reductions (with 'numeric_only=None') is deprecated; in a future version this will raise TypeError.  Select only valid columns before calling the reduction.\n",
            "  df.median()\n"
          ]
        },
        {
          "data": {
            "text/plain": [
              "Age                       36.0\n",
              "Annual Income (k$)        61.5\n",
              "Spending Score (1-100)    50.0\n",
              "dtype: float64"
            ]
          },
          "execution_count": 20,
          "metadata": {},
          "output_type": "execute_result"
        }
      ],
      "source": [
        "df.median()"
      ]
    },
    {
      "cell_type": "code",
      "execution_count": null,
      "id": "d39e4808",
      "metadata": {
        "id": "d39e4808",
        "outputId": "086136ca-77e1-4689-daca-72797ac9b725"
      },
      "outputs": [
        {
          "data": {
            "text/plain": [
              "26.264721165271254"
            ]
          },
          "execution_count": 21,
          "metadata": {},
          "output_type": "execute_result"
        }
      ],
      "source": [
        "df['Annual Income (k$)'].std()"
      ]
    },
    {
      "cell_type": "code",
      "execution_count": null,
      "id": "b019d31e",
      "metadata": {
        "id": "b019d31e",
        "outputId": "a5db9f81-1d89-4af0-c966-9725e06f4b0c"
      },
      "outputs": [
        {
          "data": {
            "text/plain": [
              "25.823521668370162"
            ]
          },
          "execution_count": 22,
          "metadata": {},
          "output_type": "execute_result"
        }
      ],
      "source": [
        "df['Spending Score (1-100)'].std()"
      ]
    },
    {
      "cell_type": "code",
      "execution_count": null,
      "id": "085ab8cb",
      "metadata": {
        "id": "085ab8cb",
        "outputId": "b3a2946e-810d-4cb8-dc27-d63494ed89de"
      },
      "outputs": [
        {
          "data": {
            "text/plain": [
              "689.8355778894478"
            ]
          },
          "execution_count": 23,
          "metadata": {},
          "output_type": "execute_result"
        }
      ],
      "source": [
        "df['Annual Income (k$)'].var()"
      ]
    },
    {
      "cell_type": "code",
      "execution_count": null,
      "id": "c52f64d2",
      "metadata": {
        "id": "c52f64d2",
        "outputId": "2bc241b3-0ccb-426f-cd00-ab93b55ae90a"
      },
      "outputs": [
        {
          "data": {
            "text/plain": [
              "666.8542713567833"
            ]
          },
          "execution_count": 24,
          "metadata": {},
          "output_type": "execute_result"
        }
      ],
      "source": [
        "df['Spending Score (1-100)'].var()"
      ]
    },
    {
      "cell_type": "markdown",
      "id": "370737ac",
      "metadata": {
        "id": "370737ac"
      },
      "source": [
        "### 5) Checking for missing values "
      ]
    },
    {
      "cell_type": "code",
      "execution_count": null,
      "id": "a6bd043c",
      "metadata": {
        "id": "a6bd043c",
        "outputId": "22e905ea-d2d7-4119-b068-a8c12e00c1bc"
      },
      "outputs": [
        {
          "data": {
            "text/plain": [
              "Gender                    False\n",
              "Age                       False\n",
              "Annual Income (k$)        False\n",
              "Spending Score (1-100)    False\n",
              "dtype: bool"
            ]
          },
          "execution_count": 25,
          "metadata": {},
          "output_type": "execute_result"
        }
      ],
      "source": [
        "df.isnull().any()"
      ]
    },
    {
      "cell_type": "code",
      "execution_count": null,
      "id": "b7235825",
      "metadata": {
        "id": "b7235825",
        "outputId": "3f2341c5-4135-4092-9775-4f1b8dcde15f"
      },
      "outputs": [
        {
          "data": {
            "text/plain": [
              "Gender                    0\n",
              "Age                       0\n",
              "Annual Income (k$)        0\n",
              "Spending Score (1-100)    0\n",
              "dtype: int64"
            ]
          },
          "execution_count": 26,
          "metadata": {},
          "output_type": "execute_result"
        }
      ],
      "source": [
        "df.isna().sum()"
      ]
    },
    {
      "cell_type": "markdown",
      "id": "3f81f10e",
      "metadata": {
        "id": "3f81f10e"
      },
      "source": [
        "### 6) Finding outliers and replacing them"
      ]
    },
    {
      "cell_type": "code",
      "execution_count": null,
      "id": "739b8cc3",
      "metadata": {
        "id": "739b8cc3",
        "outputId": "60ef9046-05f7-45a9-baac-39d109a827f0"
      },
      "outputs": [
        {
          "name": "stderr",
          "output_type": "stream",
          "text": [
            "C:\\ProgramData\\Anaconda3\\lib\\site-packages\\seaborn\\_decorators.py:36: FutureWarning: Pass the following variable as a keyword arg: x. From version 0.12, the only valid positional argument will be `data`, and passing other arguments without an explicit keyword will result in an error or misinterpretation.\n",
            "  warnings.warn(\n"
          ]
        },
        {
          "data": {
            "text/plain": [
              "<AxesSubplot:xlabel='Annual Income (k$)'>"
            ]
          },
          "execution_count": 27,
          "metadata": {},
          "output_type": "execute_result"
        },
        {
          "data": {
            "image/png": "[encoded data removed]",
            "text/plain": [
              "<Figure size 432x288 with 1 Axes>"
            ]
          },
          "metadata": {
            "needs_background": "light"
          },
          "output_type": "display_data"
        }
      ],
      "source": [
        "sns.boxplot(df['Annual Income (k$)'])"
      ]
    },
    {
      "cell_type": "code",
      "execution_count": null,
      "id": "5eb6a30d",
      "metadata": {
        "id": "5eb6a30d",
        "outputId": "79c60a8a-e36a-48da-a4af-1b22c9b3cc5c"
      },
      "outputs": [
        {
          "data": {
            "text/plain": [
              "37.800000000000004"
            ]
          },
          "execution_count": 28,
          "metadata": {},
          "output_type": "execute_result"
        }
      ],
      "source": [
        "Q1 = df['Annual Income (k$)'].quantile(0.2)\n",
        "Q1"
      ]
    },
    {
      "cell_type": "code",
      "execution_count": null,
      "id": "e6875b54",
      "metadata": {
        "id": "e6875b54",
        "outputId": "1aaf7e05-0cdb-4913-d144-e625691dbe96"
      },
      "outputs": [
        {
          "data": {
            "text/plain": [
              "78.20000000000002"
            ]
          },
          "execution_count": 29,
          "metadata": {},
          "output_type": "execute_result"
        }
      ],
      "source": [
        "Q3 = df['Annual Income (k$)'].quantile(0.8)\n",
        "Q3"
      ]
    },
    {
      "cell_type": "code",
      "execution_count": null,
      "id": "0496713e",
      "metadata": {
        "id": "0496713e",
        "outputId": "5bbd4637-74ef-40c0-a46a-3beb4eb833b4"
      },
      "outputs": [
        {
          "name": "stderr",
          "output_type": "stream",
          "text": [
            "C:\\Users\\VARSHINI SANKAR\\AppData\\Local\\Temp\\ipykernel_2704\\3911106918.py:1: SettingWithCopyWarning: \n",
            "A value is trying to be set on a copy of a slice from a DataFrame\n",
            "\n",
            "See the caveats in the documentation: https://pandas.pydata.org/pandas-docs/stable/user_guide/indexing.html#returning-a-view-versus-a-copy\n",
            "  df['Annual Income (k$)'][df['Annual Income (k$)']<=Q1]=Q1\n"
          ]
        }
      ],
      "source": [
        "df['Annual Income (k$)'][df['Annual Income (k$)']<=Q1]=Q1\n",
        "df['Annual Income (k$)'][df['Annual Income (k$)']>=Q3]=Q3"
      ]
    },
    {
      "cell_type": "code",
      "execution_count": null,
      "id": "a4aaead8",
      "metadata": {
        "id": "a4aaead8",
        "outputId": "c5fc0260-4eda-47a0-deb8-8383fda6b6b9"
      },
      "outputs": [
        {
          "name": "stderr",
          "output_type": "stream",
          "text": [
            "C:\\ProgramData\\Anaconda3\\lib\\site-packages\\seaborn\\_decorators.py:36: FutureWarning: Pass the following variable as a keyword arg: x. From version 0.12, the only valid positional argument will be `data`, and passing other arguments without an explicit keyword will result in an error or misinterpretation.\n",
            "  warnings.warn(\n"
          ]
        },
        {
          "data": {
            "text/plain": [
              "<AxesSubplot:xlabel='Annual Income (k$)'>"
            ]
          },
          "execution_count": 31,
          "metadata": {},
          "output_type": "execute_result"
        },
        {
          "data": {
            "image/png": "[encoded data removed]",
            "text/plain": [
              "<Figure size 432x288 with 1 Axes>"
            ]
          },
          "metadata": {
            "needs_background": "light"
          },
          "output_type": "display_data"
        }
      ],
      "source": [
        "sns.boxplot(df['Annual Income (k$)'])"
      ]
    },
    {
      "cell_type": "markdown",
      "id": "22bdc0a2",
      "metadata": {
        "id": "22bdc0a2"
      },
      "source": [
        "### 7) Checking for categorical columns and performing encoding"
      ]
    },
    {
      "cell_type": "code",
      "execution_count": null,
      "id": "38b5cb01",
      "metadata": {
        "id": "38b5cb01",
        "outputId": "02a54a04-49c6-49e3-d521-ebce098da020"
      },
      "outputs": [
        {
          "data": {
            "text/plain": [
              "array(['Male', 'Female'], dtype=object)"
            ]
          },
          "execution_count": 32,
          "metadata": {},
          "output_type": "execute_result"
        }
      ],
      "source": [
        "df['Gender'].unique()"
      ]
    },
    {
      "cell_type": "code",
      "execution_count": null,
      "id": "bc858b0d",
      "metadata": {
        "id": "bc858b0d"
      },
      "outputs": [],
      "source": [
        "from sklearn.preprocessing import LabelEncoder\n",
        "le = LabelEncoder()"
      ]
    },
    {
      "cell_type": "code",
      "execution_count": null,
      "id": "7541ae87",
      "metadata": {
        "id": "7541ae87",
        "outputId": "36209442-ba4c-4737-9610-6731379e8bc3"
      },
      "outputs": [
        {
          "data": {
            "text/html": [
              "<div>\n",
              "<style scoped>\n",
              "    .dataframe tbody tr th:only-of-type {\n",
              "        vertical-align: middle;\n",
              "    }\n",
              "\n",
              "    .dataframe tbody tr th {\n",
              "        vertical-align: top;\n",
              "    }\n",
              "\n",
              "    .dataframe thead th {\n",
              "        text-align: right;\n",
              "    }\n",
              "</style>\n",
              "<table border=\"1\" class=\"dataframe\">\n",
              "  <thead>\n",
              "    <tr style=\"text-align: right;\">\n",
              "      <th></th>\n",
              "      <th>Gender</th>\n",
              "      <th>Age</th>\n",
              "      <th>Annual Income (k$)</th>\n",
              "      <th>Spending Score (1-100)</th>\n",
              "    </tr>\n",
              "  </thead>\n",
              "  <tbody>\n",
              "    <tr>\n",
              "      <th>0</th>\n",
              "      <td>1</td>\n",
              "      <td>19</td>\n",
              "      <td>37.8</td>\n",
              "      <td>39</td>\n",
              "    </tr>\n",
              "    <tr>\n",
              "      <th>1</th>\n",
              "      <td>1</td>\n",
              "      <td>21</td>\n",
              "      <td>37.8</td>\n",
              "      <td>81</td>\n",
              "    </tr>\n",
              "    <tr>\n",
              "      <th>2</th>\n",
              "      <td>0</td>\n",
              "      <td>20</td>\n",
              "      <td>37.8</td>\n",
              "      <td>6</td>\n",
              "    </tr>\n",
              "    <tr>\n",
              "      <th>3</th>\n",
              "      <td>0</td>\n",
              "      <td>23</td>\n",
              "      <td>37.8</td>\n",
              "      <td>77</td>\n",
              "    </tr>\n",
              "    <tr>\n",
              "      <th>4</th>\n",
              "      <td>0</td>\n",
              "      <td>31</td>\n",
              "      <td>37.8</td>\n",
              "      <td>40</td>\n",
              "    </tr>\n",
              "  </tbody>\n",
              "</table>\n",
              "</div>"
            ],
            "text/plain": [
              "   Gender  Age  Annual Income (k$)  Spending Score (1-100)\n",
              "0       1   19                37.8                      39\n",
              "1       1   21                37.8                      81\n",
              "2       0   20                37.8                       6\n",
              "3       0   23                37.8                      77\n",
              "4       0   31                37.8                      40"
            ]
          },
          "execution_count": 34,
          "metadata": {},
          "output_type": "execute_result"
        }
      ],
      "source": [
        "df['Gender'] = le.fit_transform(df['Gender'])\n",
        "df.head()"
      ]
    },
    {
      "cell_type": "markdown",
      "id": "8598de6c",
      "metadata": {
        "id": "8598de6c"
      },
      "source": [
        "### 8) Scaling the data"
      ]
    },
    {
      "cell_type": "code",
      "execution_count": null,
      "id": "ae80fa38",
      "metadata": {
        "id": "ae80fa38",
        "outputId": "53279749-74de-4572-dfb9-1460aca3164a"
      },
      "outputs": [
        {
          "data": {
            "text/plain": [
              "array([[1.        , 0.01923077, 0.        , 0.3877551 ],\n",
              "       [1.        , 0.05769231, 0.        , 0.81632653],\n",
              "       [0.        , 0.03846154, 0.        , 0.05102041],\n",
              "       [0.        , 0.09615385, 0.        , 0.7755102 ],\n",
              "       [0.        , 0.25      , 0.        , 0.39795918],\n",
              "       [0.        , 0.07692308, 0.        , 0.76530612],\n",
              "       [0.        , 0.32692308, 0.        , 0.05102041],\n",
              "       [0.        , 0.09615385, 0.        , 0.94897959],\n",
              "       [1.        , 0.88461538, 0.        , 0.02040816],\n",
              "       [0.        , 0.23076923, 0.        , 0.7244898 ],\n",
              "       [1.        , 0.94230769, 0.        , 0.13265306],\n",
              "       [0.        , 0.32692308, 0.        , 1.        ],\n",
              "       [0.        , 0.76923077, 0.        , 0.14285714],\n",
              "       [0.        , 0.11538462, 0.        , 0.7755102 ],\n",
              "       [1.        , 0.36538462, 0.        , 0.12244898],\n",
              "       [1.        , 0.07692308, 0.        , 0.79591837],\n",
              "       [0.        , 0.32692308, 0.        , 0.34693878],\n",
              "       [1.        , 0.03846154, 0.        , 0.66326531],\n",
              "       [1.        , 0.65384615, 0.        , 0.28571429],\n",
              "       [0.        , 0.32692308, 0.        , 0.98979592],\n",
              "       [1.        , 0.32692308, 0.        , 0.34693878],\n",
              "       [1.        , 0.13461538, 0.        , 0.73469388],\n",
              "       [0.        , 0.53846154, 0.        , 0.04081633],\n",
              "       [1.        , 0.25      , 0.        , 0.73469388],\n",
              "       [0.        , 0.69230769, 0.        , 0.13265306],\n",
              "       [1.        , 0.21153846, 0.        , 0.82653061],\n",
              "       [0.        , 0.51923077, 0.        , 0.31632653],\n",
              "       [1.        , 0.32692308, 0.        , 0.6122449 ],\n",
              "       [0.        , 0.42307692, 0.        , 0.30612245],\n",
              "       [0.        , 0.09615385, 0.        , 0.87755102],\n",
              "       [1.        , 0.80769231, 0.        , 0.03061224],\n",
              "       [0.        , 0.05769231, 0.        , 0.73469388],\n",
              "       [1.        , 0.67307692, 0.        , 0.03061224],\n",
              "       [1.        , 0.        , 0.        , 0.92857143],\n",
              "       [0.        , 0.59615385, 0.        , 0.13265306],\n",
              "       [0.        , 0.05769231, 0.        , 0.81632653],\n",
              "       [0.        , 0.46153846, 0.        , 0.16326531],\n",
              "       [0.        , 0.23076923, 0.        , 0.73469388],\n",
              "       [0.        , 0.34615385, 0.        , 0.25510204],\n",
              "       [0.        , 0.03846154, 0.        , 0.75510204],\n",
              "       [0.        , 0.90384615, 0.0049505 , 0.34693878],\n",
              "       [1.        , 0.11538462, 0.0049505 , 0.92857143],\n",
              "       [1.        , 0.57692308, 0.02970297, 0.35714286],\n",
              "       [0.        , 0.25      , 0.02970297, 0.6122449 ],\n",
              "       [0.        , 0.59615385, 0.02970297, 0.2755102 ],\n",
              "       [0.        , 0.11538462, 0.02970297, 0.65306122],\n",
              "       [0.        , 0.61538462, 0.05445545, 0.55102041],\n",
              "       [0.        , 0.17307692, 0.05445545, 0.46938776],\n",
              "       [0.        , 0.21153846, 0.05445545, 0.41836735],\n",
              "       [0.        , 0.25      , 0.05445545, 0.41836735],\n",
              "       [0.        , 0.59615385, 0.1039604 , 0.52040816],\n",
              "       [1.        , 0.28846154, 0.1039604 , 0.60204082],\n",
              "       [0.        , 0.25      , 0.12871287, 0.54081633],\n",
              "       [1.        , 0.78846154, 0.12871287, 0.60204082],\n",
              "       [0.        , 0.61538462, 0.12871287, 0.44897959],\n",
              "       [1.        , 0.55769231, 0.12871287, 0.40816327],\n",
              "       [0.        , 0.63461538, 0.15346535, 0.5       ],\n",
              "       [1.        , 0.98076923, 0.15346535, 0.45918367],\n",
              "       [0.        , 0.17307692, 0.2029703 , 0.51020408],\n",
              "       [1.        , 0.67307692, 0.2029703 , 0.45918367],\n",
              "       [1.        , 1.        , 0.2029703 , 0.56122449],\n",
              "       [1.        , 0.01923077, 0.2029703 , 0.55102041],\n",
              "       [0.        , 0.94230769, 0.22772277, 0.52040816],\n",
              "       [0.        , 0.69230769, 0.22772277, 0.59183673],\n",
              "       [1.        , 0.86538462, 0.25247525, 0.51020408],\n",
              "       [1.        , 0.        , 0.25247525, 0.59183673],\n",
              "       [0.        , 0.48076923, 0.25247525, 0.5       ],\n",
              "       [0.        , 0.96153846, 0.25247525, 0.47959184],\n",
              "       [1.        , 0.01923077, 0.25247525, 0.59183673],\n",
              "       [0.        , 0.26923077, 0.25247525, 0.46938776],\n",
              "       [1.        , 1.        , 0.27722772, 0.55102041],\n",
              "       [0.        , 0.55769231, 0.27722772, 0.41836735],\n",
              "       [0.        , 0.80769231, 0.3019802 , 0.48979592],\n",
              "       [0.        , 0.80769231, 0.3019802 , 0.56122449],\n",
              "       [1.        , 0.78846154, 0.4009901 , 0.46938776],\n",
              "       [1.        , 0.15384615, 0.4009901 , 0.54081633],\n",
              "       [0.        , 0.51923077, 0.4009901 , 0.53061224],\n",
              "       [1.        , 0.42307692, 0.4009901 , 0.47959184],\n",
              "       [0.        , 0.09615385, 0.4009901 , 0.52040816],\n",
              "       [0.        , 0.59615385, 0.4009901 , 0.41836735],\n",
              "       [1.        , 0.75      , 0.4009901 , 0.51020408],\n",
              "       [1.        , 0.38461538, 0.4009901 , 0.55102041],\n",
              "       [1.        , 0.94230769, 0.4009901 , 0.40816327],\n",
              "       [0.        , 0.53846154, 0.4009901 , 0.43877551],\n",
              "       [0.        , 0.05769231, 0.4009901 , 0.57142857],\n",
              "       [1.        , 0.57692308, 0.4009901 , 0.45918367],\n",
              "       [0.        , 0.71153846, 0.47524752, 0.58163265],\n",
              "       [0.        , 0.07692308, 0.47524752, 0.55102041],\n",
              "       [0.        , 0.30769231, 0.5       , 0.60204082],\n",
              "       [0.        , 0.61538462, 0.5       , 0.45918367],\n",
              "       [0.        , 0.96153846, 0.52475248, 0.55102041],\n",
              "       [1.        , 0.        , 0.52475248, 0.40816327],\n",
              "       [1.        , 0.57692308, 0.54950495, 0.48979592],\n",
              "       [0.        , 0.42307692, 0.54950495, 0.39795918],\n",
              "       [0.        , 0.26923077, 0.54950495, 0.41836735],\n",
              "       [1.        , 0.11538462, 0.54950495, 0.52040816],\n",
              "       [0.        , 0.55769231, 0.54950495, 0.46938776],\n",
              "       [0.        , 0.17307692, 0.54950495, 0.5       ],\n",
              "       [1.        , 0.57692308, 0.57425743, 0.41836735],\n",
              "       [1.        , 0.03846154, 0.57425743, 0.48979592],\n",
              "       [0.        , 0.09615385, 0.5990099 , 0.40816327],\n",
              "       [0.        , 0.59615385, 0.5990099 , 0.47959184],\n",
              "       [1.        , 0.94230769, 0.5990099 , 0.59183673],\n",
              "       [1.        , 0.15384615, 0.5990099 , 0.55102041],\n",
              "       [1.        , 0.59615385, 0.5990099 , 0.56122449],\n",
              "       [0.        , 0.05769231, 0.5990099 , 0.41836735],\n",
              "       [0.        , 0.92307692, 0.62376238, 0.5       ],\n",
              "       [1.        , 0.69230769, 0.62376238, 0.45918367],\n",
              "       [1.        , 0.96153846, 0.62376238, 0.42857143],\n",
              "       [1.        , 0.92307692, 0.62376238, 0.47959184],\n",
              "       [1.        , 0.90384615, 0.62376238, 0.52040816],\n",
              "       [0.        , 0.01923077, 0.62376238, 0.54081633],\n",
              "       [0.        , 0.38461538, 0.64851485, 0.41836735],\n",
              "       [1.        , 0.01923077, 0.64851485, 0.45918367],\n",
              "       [0.        , 0.        , 0.67326733, 0.47959184],\n",
              "       [0.        , 0.01923077, 0.67326733, 0.5       ],\n",
              "       [0.        , 0.86538462, 0.67326733, 0.42857143],\n",
              "       [0.        , 0.59615385, 0.67326733, 0.59183673],\n",
              "       [0.        , 0.63461538, 0.72277228, 0.42857143],\n",
              "       [0.        , 0.61538462, 0.72277228, 0.57142857],\n",
              "       [1.        , 0.17307692, 0.72277228, 0.56122449],\n",
              "       [0.        , 0.38461538, 0.72277228, 0.39795918],\n",
              "       [0.        , 0.42307692, 0.77227723, 0.58163265],\n",
              "       [1.        , 0.40384615, 0.77227723, 0.91836735],\n",
              "       [0.        , 0.09615385, 0.7970297 , 0.28571429],\n",
              "       [0.        , 0.25      , 0.7970297 , 0.7755102 ],\n",
              "       [1.        , 0.48076923, 0.82178218, 0.34693878],\n",
              "       [1.        , 0.42307692, 0.82178218, 0.95918367],\n",
              "       [1.        , 0.78846154, 0.82178218, 0.10204082],\n",
              "       [1.        , 0.38461538, 0.82178218, 0.75510204],\n",
              "       [1.        , 0.55769231, 0.82178218, 0.08163265],\n",
              "       [1.        , 0.40384615, 0.82178218, 0.75510204],\n",
              "       [0.        , 0.13461538, 0.84653465, 0.33673469],\n",
              "       [0.        , 0.25      , 0.84653465, 0.71428571],\n",
              "       [1.        , 0.03846154, 0.87128713, 0.04081633],\n",
              "       [0.        , 0.21153846, 0.87128713, 0.8877551 ],\n",
              "       [0.        , 0.5       , 0.87128713, 0.06122449],\n",
              "       [1.        , 0.26923077, 0.87128713, 0.73469388],\n",
              "       [1.        , 0.01923077, 0.8960396 , 0.09183673],\n",
              "       [0.        , 0.32692308, 0.8960396 , 0.7244898 ],\n",
              "       [0.        , 0.75      , 0.92079208, 0.04081633],\n",
              "       [1.        , 0.26923077, 0.92079208, 0.93877551],\n",
              "       [0.        , 0.19230769, 0.94554455, 0.39795918],\n",
              "       [0.        , 0.26923077, 0.94554455, 0.87755102],\n",
              "       [1.        , 0.13461538, 0.97029703, 0.1122449 ],\n",
              "       [1.        , 0.19230769, 0.97029703, 0.97959184],\n",
              "       [1.        , 0.57692308, 0.97029703, 0.35714286],\n",
              "       [0.        , 0.26923077, 0.97029703, 0.74489796],\n",
              "       [0.        , 0.30769231, 0.9950495 , 0.21428571],\n",
              "       [1.        , 0.30769231, 0.9950495 , 0.90816327],\n",
              "       [1.        , 0.48076923, 0.9950495 , 0.16326531],\n",
              "       [1.        , 0.40384615, 0.9950495 , 0.8877551 ],\n",
              "       [0.        , 0.5       , 0.9950495 , 0.19387755],\n",
              "       [0.        , 0.38461538, 0.9950495 , 0.76530612],\n",
              "       [0.        , 0.55769231, 0.9950495 , 0.15306122],\n",
              "       [0.        , 0.17307692, 0.9950495 , 0.89795918],\n",
              "       [1.        , 0.36538462, 0.9950495 , 0.        ],\n",
              "       [0.        , 0.23076923, 0.9950495 , 0.78571429],\n",
              "       [1.        , 0.30769231, 0.9950495 , 0.        ],\n",
              "       [0.        , 0.23076923, 0.9950495 , 0.73469388],\n",
              "       [0.        , 0.73076923, 1.        , 0.34693878],\n",
              "       [0.        , 0.21153846, 1.        , 0.83673469],\n",
              "       [1.        , 0.01923077, 1.        , 0.04081633],\n",
              "       [0.        , 0.25      , 1.        , 0.93877551],\n",
              "       [1.        , 0.61538462, 1.        , 0.25510204],\n",
              "       [0.        , 0.34615385, 1.        , 0.75510204],\n",
              "       [1.        , 0.46153846, 1.        , 0.19387755],\n",
              "       [0.        , 0.28846154, 1.        , 0.95918367],\n",
              "       [0.        , 0.34615385, 1.        , 0.26530612],\n",
              "       [1.        , 0.26923077, 1.        , 0.63265306],\n",
              "       [1.        , 0.42307692, 1.        , 0.12244898],\n",
              "       [1.        , 0.19230769, 1.        , 0.75510204],\n",
              "       [1.        , 0.34615385, 1.        , 0.09183673],\n",
              "       [1.        , 0.34615385, 1.        , 0.92857143],\n",
              "       [0.        , 0.65384615, 1.        , 0.12244898],\n",
              "       [0.        , 0.23076923, 1.        , 0.86734694],\n",
              "       [1.        , 0.76923077, 1.        , 0.14285714],\n",
              "       [1.        , 0.17307692, 1.        , 0.69387755],\n",
              "       [1.        , 0.78846154, 1.        , 0.13265306],\n",
              "       [1.        , 0.32692308, 1.        , 0.90816327],\n",
              "       [0.        , 0.36538462, 1.        , 0.31632653],\n",
              "       [0.        , 0.26923077, 1.        , 0.86734694],\n",
              "       [1.        , 0.53846154, 1.        , 0.14285714],\n",
              "       [0.        , 0.21153846, 1.        , 0.8877551 ],\n",
              "       [0.        , 0.44230769, 1.        , 0.3877551 ],\n",
              "       [1.        , 0.23076923, 1.        , 0.97959184],\n",
              "       [0.        , 0.69230769, 1.        , 0.23469388],\n",
              "       [1.        , 0.19230769, 1.        , 0.68367347],\n",
              "       [0.        , 0.44230769, 1.        , 0.16326531],\n",
              "       [0.        , 0.34615385, 1.        , 0.85714286],\n",
              "       [0.        , 0.30769231, 1.        , 0.2244898 ],\n",
              "       [0.        , 0.26923077, 1.        , 0.69387755],\n",
              "       [1.        , 0.28846154, 1.        , 0.07142857],\n",
              "       [0.        , 0.38461538, 1.        , 0.91836735],\n",
              "       [0.        , 0.55769231, 1.        , 0.15306122],\n",
              "       [0.        , 0.32692308, 1.        , 0.79591837],\n",
              "       [0.        , 0.51923077, 1.        , 0.2755102 ],\n",
              "       [1.        , 0.26923077, 1.        , 0.74489796],\n",
              "       [1.        , 0.26923077, 1.        , 0.17346939],\n",
              "       [1.        , 0.23076923, 1.        , 0.83673469]])"
            ]
          },
          "execution_count": 35,
          "metadata": {},
          "output_type": "execute_result"
        }
      ],
      "source": [
        "from sklearn.preprocessing import MinMaxScaler\n",
        "scaler = MinMaxScaler()\n",
        "scaled_data = scaler.fit_transform(df)\n",
        "scaled_data"
      ]
    },
    {
      "cell_type": "code",
      "execution_count": null,
      "id": "b6f99487",
      "metadata": {
        "id": "b6f99487",
        "outputId": "93aae6ac-a4e6-4bfe-f20a-a182cf7c3cdc"
      },
      "outputs": [
        {
          "data": {
            "text/html": [
              "<div>\n",
              "<style scoped>\n",
              "    .dataframe tbody tr th:only-of-type {\n",
              "        vertical-align: middle;\n",
              "    }\n",
              "\n",
              "    .dataframe tbody tr th {\n",
              "        vertical-align: top;\n",
              "    }\n",
              "\n",
              "    .dataframe thead th {\n",
              "        text-align: right;\n",
              "    }\n",
              "</style>\n",
              "<table border=\"1\" class=\"dataframe\">\n",
              "  <thead>\n",
              "    <tr style=\"text-align: right;\">\n",
              "      <th></th>\n",
              "      <th>Gender</th>\n",
              "      <th>Age</th>\n",
              "      <th>Annual Income (k$)</th>\n",
              "      <th>Spending Score (1-100)</th>\n",
              "    </tr>\n",
              "  </thead>\n",
              "  <tbody>\n",
              "    <tr>\n",
              "      <th>0</th>\n",
              "      <td>1.0</td>\n",
              "      <td>0.019231</td>\n",
              "      <td>0.0</td>\n",
              "      <td>0.387755</td>\n",
              "    </tr>\n",
              "    <tr>\n",
              "      <th>1</th>\n",
              "      <td>1.0</td>\n",
              "      <td>0.057692</td>\n",
              "      <td>0.0</td>\n",
              "      <td>0.816327</td>\n",
              "    </tr>\n",
              "    <tr>\n",
              "      <th>2</th>\n",
              "      <td>0.0</td>\n",
              "      <td>0.038462</td>\n",
              "      <td>0.0</td>\n",
              "      <td>0.051020</td>\n",
              "    </tr>\n",
              "    <tr>\n",
              "      <th>3</th>\n",
              "      <td>0.0</td>\n",
              "      <td>0.096154</td>\n",
              "      <td>0.0</td>\n",
              "      <td>0.775510</td>\n",
              "    </tr>\n",
              "    <tr>\n",
              "      <th>4</th>\n",
              "      <td>0.0</td>\n",
              "      <td>0.250000</td>\n",
              "      <td>0.0</td>\n",
              "      <td>0.397959</td>\n",
              "    </tr>\n",
              "  </tbody>\n",
              "</table>\n",
              "</div>"
            ],
            "text/plain": [
              "   Gender       Age  Annual Income (k$)  Spending Score (1-100)\n",
              "0     1.0  0.019231                 0.0                0.387755\n",
              "1     1.0  0.057692                 0.0                0.816327\n",
              "2     0.0  0.038462                 0.0                0.051020\n",
              "3     0.0  0.096154                 0.0                0.775510\n",
              "4     0.0  0.250000                 0.0                0.397959"
            ]
          },
          "execution_count": 36,
          "metadata": {},
          "output_type": "execute_result"
        }
      ],
      "source": [
        "scaled_df = pd.DataFrame(scaled_data,columns= df.columns)\n",
        "scaled_df.head()"
      ]
    },
    {
      "cell_type": "markdown",
      "id": "21d3d263",
      "metadata": {
        "id": "21d3d263"
      },
      "source": [
        "### 9) Clustering algorithm"
      ]
    },
    {
      "cell_type": "code",
      "execution_count": null,
      "id": "c581f35e",
      "metadata": {
        "id": "c581f35e",
        "outputId": "b52a585f-fd12-4e36-8adc-afc22e65c776"
      },
      "outputs": [
        {
          "data": {
            "text/plain": [
              "array([5, 5, 6, 6, 6, 6, 1, 6, 3, 6, 3, 6, 1, 6, 3, 5, 1, 5, 3, 6, 5, 5,\n",
              "       1, 5, 1, 5, 1, 5, 1, 6, 3, 6, 3, 5, 1, 6, 1, 6, 1, 6, 1, 5, 3, 6,\n",
              "       1, 6, 1, 6, 6, 6, 1, 5, 6, 3, 1, 3, 1, 3, 6, 3, 3, 5, 1, 1, 3, 5,\n",
              "       1, 1, 5, 6, 3, 1, 1, 1, 3, 5, 1, 3, 6, 1, 3, 5, 3, 1, 6, 3, 1, 6,\n",
              "       2, 1, 1, 5, 3, 2, 2, 5, 2, 2, 3, 5, 2, 2, 3, 5, 3, 2, 2, 3, 3, 3,\n",
              "       3, 2, 2, 5, 2, 2, 2, 2, 2, 2, 4, 2, 2, 4, 2, 7, 0, 4, 0, 4, 0, 4,\n",
              "       2, 7, 0, 7, 2, 4, 0, 7, 2, 4, 2, 7, 0, 4, 0, 7, 2, 4, 0, 4, 2, 7,\n",
              "       2, 7, 0, 7, 0, 7, 2, 7, 0, 7, 0, 7, 0, 7, 2, 4, 0, 4, 0, 4, 2, 7,\n",
              "       0, 4, 0, 4, 2, 7, 0, 7, 2, 4, 2, 4, 2, 7, 2, 7, 0, 7, 2, 7, 2, 4,\n",
              "       0, 4])"
            ]
          },
          "execution_count": 37,
          "metadata": {},
          "output_type": "execute_result"
        }
      ],
      "source": [
        "from sklearn.cluster import KMeans\n",
        "km = KMeans()\n",
        "clus = km.fit_predict(scaled_data)\n",
        "clus"
      ]
    },
    {
      "cell_type": "markdown",
      "id": "3c5f60db",
      "metadata": {
        "id": "3c5f60db"
      },
      "source": [
        "### 10) Adding the cluster data with the primary dataset\n"
      ]
    },
    {
      "cell_type": "code",
      "execution_count": null,
      "id": "f7969d80",
      "metadata": {
        "id": "f7969d80",
        "outputId": "9eb9c79a-6e23-4cdc-c886-cde22e8bc084"
      },
      "outputs": [
        {
          "data": {
            "text/html": [
              "<div>\n",
              "<style scoped>\n",
              "    .dataframe tbody tr th:only-of-type {\n",
              "        vertical-align: middle;\n",
              "    }\n",
              "\n",
              "    .dataframe tbody tr th {\n",
              "        vertical-align: top;\n",
              "    }\n",
              "\n",
              "    .dataframe thead th {\n",
              "        text-align: right;\n",
              "    }\n",
              "</style>\n",
              "<table border=\"1\" class=\"dataframe\">\n",
              "  <thead>\n",
              "    <tr style=\"text-align: right;\">\n",
              "      <th></th>\n",
              "      <th>Gender</th>\n",
              "      <th>Age</th>\n",
              "      <th>Annual Income (k$)</th>\n",
              "      <th>Spending Score (1-100)</th>\n",
              "      <th>Cluster</th>\n",
              "    </tr>\n",
              "  </thead>\n",
              "  <tbody>\n",
              "    <tr>\n",
              "      <th>0</th>\n",
              "      <td>1.0</td>\n",
              "      <td>0.019231</td>\n",
              "      <td>0.0</td>\n",
              "      <td>0.387755</td>\n",
              "      <td>5</td>\n",
              "    </tr>\n",
              "    <tr>\n",
              "      <th>1</th>\n",
              "      <td>1.0</td>\n",
              "      <td>0.057692</td>\n",
              "      <td>0.0</td>\n",
              "      <td>0.816327</td>\n",
              "      <td>5</td>\n",
              "    </tr>\n",
              "    <tr>\n",
              "      <th>2</th>\n",
              "      <td>0.0</td>\n",
              "      <td>0.038462</td>\n",
              "      <td>0.0</td>\n",
              "      <td>0.051020</td>\n",
              "      <td>6</td>\n",
              "    </tr>\n",
              "    <tr>\n",
              "      <th>3</th>\n",
              "      <td>0.0</td>\n",
              "      <td>0.096154</td>\n",
              "      <td>0.0</td>\n",
              "      <td>0.775510</td>\n",
              "      <td>6</td>\n",
              "    </tr>\n",
              "    <tr>\n",
              "      <th>4</th>\n",
              "      <td>0.0</td>\n",
              "      <td>0.250000</td>\n",
              "      <td>0.0</td>\n",
              "      <td>0.397959</td>\n",
              "      <td>6</td>\n",
              "    </tr>\n",
              "  </tbody>\n",
              "</table>\n",
              "</div>"
            ],
            "text/plain": [
              "   Gender       Age  Annual Income (k$)  Spending Score (1-100)  Cluster\n",
              "0     1.0  0.019231                 0.0                0.387755        5\n",
              "1     1.0  0.057692                 0.0                0.816327        5\n",
              "2     0.0  0.038462                 0.0                0.051020        6\n",
              "3     0.0  0.096154                 0.0                0.775510        6\n",
              "4     0.0  0.250000                 0.0                0.397959        6"
            ]
          },
          "execution_count": 38,
          "metadata": {},
          "output_type": "execute_result"
        }
      ],
      "source": [
        "scaled_df['Cluster']  = pd.Series(clus)\n",
        "scaled_df.head()"
      ]
    },
    {
      "cell_type": "code",
      "execution_count": null,
      "id": "4c5162c7",
      "metadata": {
        "id": "4c5162c7",
        "outputId": "b00a5d93-468e-48d0-ea47-3ce35c529fd8"
      },
      "outputs": [
        {
          "data": {
            "text/html": [
              "<div>\n",
              "<style scoped>\n",
              "    .dataframe tbody tr th:only-of-type {\n",
              "        vertical-align: middle;\n",
              "    }\n",
              "\n",
              "    .dataframe tbody tr th {\n",
              "        vertical-align: top;\n",
              "    }\n",
              "\n",
              "    .dataframe thead th {\n",
              "        text-align: right;\n",
              "    }\n",
              "</style>\n",
              "<table border=\"1\" class=\"dataframe\">\n",
              "  <thead>\n",
              "    <tr style=\"text-align: right;\">\n",
              "      <th></th>\n",
              "      <th>Gender</th>\n",
              "      <th>Age</th>\n",
              "      <th>Annual Income (k$)</th>\n",
              "      <th>Spending Score (1-100)</th>\n",
              "      <th>Cluster</th>\n",
              "    </tr>\n",
              "  </thead>\n",
              "  <tbody>\n",
              "    <tr>\n",
              "      <th>195</th>\n",
              "      <td>0.0</td>\n",
              "      <td>0.326923</td>\n",
              "      <td>1.0</td>\n",
              "      <td>0.795918</td>\n",
              "      <td>7</td>\n",
              "    </tr>\n",
              "    <tr>\n",
              "      <th>196</th>\n",
              "      <td>0.0</td>\n",
              "      <td>0.519231</td>\n",
              "      <td>1.0</td>\n",
              "      <td>0.275510</td>\n",
              "      <td>2</td>\n",
              "    </tr>\n",
              "    <tr>\n",
              "      <th>197</th>\n",
              "      <td>1.0</td>\n",
              "      <td>0.269231</td>\n",
              "      <td>1.0</td>\n",
              "      <td>0.744898</td>\n",
              "      <td>4</td>\n",
              "    </tr>\n",
              "    <tr>\n",
              "      <th>198</th>\n",
              "      <td>1.0</td>\n",
              "      <td>0.269231</td>\n",
              "      <td>1.0</td>\n",
              "      <td>0.173469</td>\n",
              "      <td>0</td>\n",
              "    </tr>\n",
              "    <tr>\n",
              "      <th>199</th>\n",
              "      <td>1.0</td>\n",
              "      <td>0.230769</td>\n",
              "      <td>1.0</td>\n",
              "      <td>0.836735</td>\n",
              "      <td>4</td>\n",
              "    </tr>\n",
              "  </tbody>\n",
              "</table>\n",
              "</div>"
            ],
            "text/plain": [
              "     Gender       Age  Annual Income (k$)  Spending Score (1-100)  Cluster\n",
              "195     0.0  0.326923                 1.0                0.795918        7\n",
              "196     0.0  0.519231                 1.0                0.275510        2\n",
              "197     1.0  0.269231                 1.0                0.744898        4\n",
              "198     1.0  0.269231                 1.0                0.173469        0\n",
              "199     1.0  0.230769                 1.0                0.836735        4"
            ]
          },
          "execution_count": 39,
          "metadata": {},
          "output_type": "execute_result"
        }
      ],
      "source": [
        "scaled_df.tail()"
      ]
    },
    {
      "cell_type": "markdown",
      "id": "8166c8ba",
      "metadata": {
        "id": "8166c8ba"
      },
      "source": [
        "### 11) Splitting data into dependent and independent variables"
      ]
    },
    {
      "cell_type": "code",
      "execution_count": null,
      "id": "33d0045e",
      "metadata": {
        "id": "33d0045e",
        "outputId": "60413e91-49e9-4db5-ba2f-5dd5cec2e8e6"
      },
      "outputs": [
        {
          "data": {
            "text/html": [
              "<div>\n",
              "<style scoped>\n",
              "    .dataframe tbody tr th:only-of-type {\n",
              "        vertical-align: middle;\n",
              "    }\n",
              "\n",
              "    .dataframe tbody tr th {\n",
              "        vertical-align: top;\n",
              "    }\n",
              "\n",
              "    .dataframe thead th {\n",
              "        text-align: right;\n",
              "    }\n",
              "</style>\n",
              "<table border=\"1\" class=\"dataframe\">\n",
              "  <thead>\n",
              "    <tr style=\"text-align: right;\">\n",
              "      <th></th>\n",
              "      <th>Gender</th>\n",
              "      <th>Age</th>\n",
              "      <th>Annual Income (k$)</th>\n",
              "      <th>Spending Score (1-100)</th>\n",
              "    </tr>\n",
              "  </thead>\n",
              "  <tbody>\n",
              "    <tr>\n",
              "      <th>0</th>\n",
              "      <td>1.0</td>\n",
              "      <td>0.019231</td>\n",
              "      <td>0.0</td>\n",
              "      <td>0.387755</td>\n",
              "    </tr>\n",
              "    <tr>\n",
              "      <th>1</th>\n",
              "      <td>1.0</td>\n",
              "      <td>0.057692</td>\n",
              "      <td>0.0</td>\n",
              "      <td>0.816327</td>\n",
              "    </tr>\n",
              "    <tr>\n",
              "      <th>2</th>\n",
              "      <td>0.0</td>\n",
              "      <td>0.038462</td>\n",
              "      <td>0.0</td>\n",
              "      <td>0.051020</td>\n",
              "    </tr>\n",
              "    <tr>\n",
              "      <th>3</th>\n",
              "      <td>0.0</td>\n",
              "      <td>0.096154</td>\n",
              "      <td>0.0</td>\n",
              "      <td>0.775510</td>\n",
              "    </tr>\n",
              "    <tr>\n",
              "      <th>4</th>\n",
              "      <td>0.0</td>\n",
              "      <td>0.250000</td>\n",
              "      <td>0.0</td>\n",
              "      <td>0.397959</td>\n",
              "    </tr>\n",
              "  </tbody>\n",
              "</table>\n",
              "</div>"
            ],
            "text/plain": [
              "   Gender       Age  Annual Income (k$)  Spending Score (1-100)\n",
              "0     1.0  0.019231                 0.0                0.387755\n",
              "1     1.0  0.057692                 0.0                0.816327\n",
              "2     0.0  0.038462                 0.0                0.051020\n",
              "3     0.0  0.096154                 0.0                0.775510\n",
              "4     0.0  0.250000                 0.0                0.397959"
            ]
          },
          "execution_count": 40,
          "metadata": {},
          "output_type": "execute_result"
        }
      ],
      "source": [
        "X = scaled_df.iloc[:,0:4]\n",
        "X.head()"
      ]
    },
    {
      "cell_type": "code",
      "execution_count": null,
      "id": "7aab81c8",
      "metadata": {
        "id": "7aab81c8",
        "outputId": "393bad27-6427-4526-e47b-15299b972fd8"
      },
      "outputs": [
        {
          "data": {
            "text/html": [
              "<div>\n",
              "<style scoped>\n",
              "    .dataframe tbody tr th:only-of-type {\n",
              "        vertical-align: middle;\n",
              "    }\n",
              "\n",
              "    .dataframe tbody tr th {\n",
              "        vertical-align: top;\n",
              "    }\n",
              "\n",
              "    .dataframe thead th {\n",
              "        text-align: right;\n",
              "    }\n",
              "</style>\n",
              "<table border=\"1\" class=\"dataframe\">\n",
              "  <thead>\n",
              "    <tr style=\"text-align: right;\">\n",
              "      <th></th>\n",
              "      <th>Cluster</th>\n",
              "    </tr>\n",
              "  </thead>\n",
              "  <tbody>\n",
              "    <tr>\n",
              "      <th>0</th>\n",
              "      <td>5</td>\n",
              "    </tr>\n",
              "    <tr>\n",
              "      <th>1</th>\n",
              "      <td>5</td>\n",
              "    </tr>\n",
              "    <tr>\n",
              "      <th>2</th>\n",
              "      <td>6</td>\n",
              "    </tr>\n",
              "    <tr>\n",
              "      <th>3</th>\n",
              "      <td>6</td>\n",
              "    </tr>\n",
              "    <tr>\n",
              "      <th>4</th>\n",
              "      <td>6</td>\n",
              "    </tr>\n",
              "  </tbody>\n",
              "</table>\n",
              "</div>"
            ],
            "text/plain": [
              "   Cluster\n",
              "0        5\n",
              "1        5\n",
              "2        6\n",
              "3        6\n",
              "4        6"
            ]
          },
          "execution_count": 41,
          "metadata": {},
          "output_type": "execute_result"
        }
      ],
      "source": [
        "Y = scaled_df.iloc[:,4:]\n",
        "Y.head()"
      ]
    },
    {
      "cell_type": "markdown",
      "id": "0b4d2b71",
      "metadata": {
        "id": "0b4d2b71"
      },
      "source": [
        "### 12) Splitting data into training and testing"
      ]
    },
    {
      "cell_type": "code",
      "execution_count": null,
      "id": "96caa0bf",
      "metadata": {
        "id": "96caa0bf"
      },
      "outputs": [],
      "source": [
        "from sklearn.model_selection import train_test_split\n",
        "x_train,x_test,y_train,y_test = train_test_split(X,Y,test_size=0.3,random_state=1)"
      ]
    },
    {
      "cell_type": "code",
      "execution_count": null,
      "id": "aab327e9",
      "metadata": {
        "id": "aab327e9",
        "outputId": "1a0c1611-9ef1-43b0-e2f0-743f5e8416ad"
      },
      "outputs": [
        {
          "data": {
            "text/plain": [
              "(140, 4)"
            ]
          },
          "execution_count": 43,
          "metadata": {},
          "output_type": "execute_result"
        }
      ],
      "source": [
        "x_train.shape"
      ]
    },
    {
      "cell_type": "code",
      "execution_count": null,
      "id": "53b80886",
      "metadata": {
        "id": "53b80886",
        "outputId": "66608695-395d-4a88-969b-476947963b06"
      },
      "outputs": [
        {
          "data": {
            "text/plain": [
              "(140, 1)"
            ]
          },
          "execution_count": 44,
          "metadata": {},
          "output_type": "execute_result"
        }
      ],
      "source": [
        "y_train.shape"
      ]
    },
    {
      "cell_type": "code",
      "execution_count": null,
      "id": "f1f315e0",
      "metadata": {
        "id": "f1f315e0",
        "outputId": "2e0b83f0-406e-4d57-bfd6-5613fff32b33"
      },
      "outputs": [
        {
          "data": {
            "text/plain": [
              "(60, 4)"
            ]
          },
          "execution_count": 45,
          "metadata": {},
          "output_type": "execute_result"
        }
      ],
      "source": [
        "x_test.shape"
      ]
    },
    {
      "cell_type": "code",
      "execution_count": null,
      "id": "3ddc1278",
      "metadata": {
        "id": "3ddc1278",
        "outputId": "51edef4c-a384-488b-c039-0211df98fa21"
      },
      "outputs": [
        {
          "data": {
            "text/plain": [
              "(60, 1)"
            ]
          },
          "execution_count": 46,
          "metadata": {},
          "output_type": "execute_result"
        }
      ],
      "source": [
        "y_test.shape"
      ]
    },
    {
      "cell_type": "markdown",
      "id": "c2c22409",
      "metadata": {
        "id": "c2c22409"
      },
      "source": [
        "### 13) Building the model"
      ]
    },
    {
      "cell_type": "code",
      "execution_count": null,
      "id": "3e741e9e",
      "metadata": {
        "id": "3e741e9e"
      },
      "outputs": [],
      "source": [
        "from sklearn.linear_model import LogisticRegression\n",
        "model=LogisticRegression()"
      ]
    },
    {
      "cell_type": "code",
      "execution_count": null,
      "id": "3bb74c09",
      "metadata": {
        "id": "3bb74c09",
        "outputId": "451f84b2-eeb9-4a37-fbc8-c7515139389a"
      },
      "outputs": [
        {
          "name": "stderr",
          "output_type": "stream",
          "text": [
            "C:\\ProgramData\\Anaconda3\\lib\\site-packages\\sklearn\\utils\\validation.py:993: DataConversionWarning: A column-vector y was passed when a 1d array was expected. Please change the shape of y to (n_samples, ), for example using ravel().\n",
            "  y = column_or_1d(y, warn=True)\n"
          ]
        },
        {
          "data": {
            "text/plain": [
              "LogisticRegression()"
            ]
          },
          "execution_count": 48,
          "metadata": {},
          "output_type": "execute_result"
        }
      ],
      "source": [
        "model.fit(x_train,y_train)"
      ]
    },
    {
      "cell_type": "markdown",
      "id": "2b62f3a2",
      "metadata": {
        "id": "2b62f3a2"
      },
      "source": [
        "### 14) Training the model"
      ]
    },
    {
      "cell_type": "code",
      "execution_count": null,
      "id": "392cddbf",
      "metadata": {
        "scrolled": true,
        "id": "392cddbf",
        "outputId": "e6f8f2f7-1c03-4501-86d4-7ba5082fd337"
      },
      "outputs": [
        {
          "data": {
            "text/plain": [
              "array([2, 1, 6, 3, 5, 6, 4, 2, 6, 1, 1, 6, 7, 0, 0, 5, 1, 2, 2, 5, 2, 1,\n",
              "       5, 2, 7, 6, 3, 2, 4, 6, 5, 1, 7, 2, 7, 5, 7, 4, 2, 4, 5, 5, 5, 2,\n",
              "       6, 3, 3, 0, 1, 2, 5, 7, 3, 5, 3, 7, 2, 0, 1, 1, 3, 3, 7, 2, 7, 6,\n",
              "       2, 4, 0, 3, 3, 1, 0, 2, 7, 5, 0, 6, 0, 3, 4, 7, 2, 2, 3, 5, 5, 7,\n",
              "       3, 3, 6, 1, 1, 6, 1, 6, 4, 6, 4, 4, 2, 3, 2, 2, 7, 3, 3, 0, 5, 3,\n",
              "       1, 5, 1, 6, 2, 4, 1, 2, 5, 1, 2, 7, 0, 7, 0, 2, 5, 0, 5, 0, 1, 4,\n",
              "       0, 0, 1, 7, 4, 1, 2, 6])"
            ]
          },
          "execution_count": 49,
          "metadata": {},
          "output_type": "execute_result"
        }
      ],
      "source": [
        "y_pred = model.predict(x_train)\n",
        "y_pred"
      ]
    },
    {
      "cell_type": "code",
      "execution_count": null,
      "id": "fe20dd19",
      "metadata": {
        "id": "fe20dd19",
        "outputId": "961e3ce1-cb77-4bdf-d895-0bec024c2c0a"
      },
      "outputs": [
        {
          "data": {
            "text/plain": [
              "0.9928571428571429"
            ]
          },
          "execution_count": 50,
          "metadata": {},
          "output_type": "execute_result"
        }
      ],
      "source": [
        "#Training accuracy\n",
        "model.score(x_train,y_train)"
      ]
    },
    {
      "cell_type": "markdown",
      "id": "b1912caa",
      "metadata": {
        "id": "b1912caa"
      },
      "source": [
        "### 15) Testing the model"
      ]
    },
    {
      "cell_type": "code",
      "execution_count": null,
      "id": "9ae466bd",
      "metadata": {
        "id": "9ae466bd",
        "outputId": "9c77bade-2705-4874-9ca4-4d59ee2e4ec6"
      },
      "outputs": [
        {
          "data": {
            "text/plain": [
              "array([6, 1, 1, 3, 2, 0, 5, 6, 6, 2, 4, 3, 6, 1, 3, 2, 7, 6, 2, 3, 5, 1,\n",
              "       1, 2, 6, 0, 1, 1, 7, 5, 6, 7, 2, 4, 0, 2, 2, 1, 6, 0, 3, 3, 7, 5,\n",
              "       1, 6, 2, 6, 4, 2, 3, 4, 2, 3, 5, 4, 7, 1, 4, 0])"
            ]
          },
          "execution_count": 51,
          "metadata": {},
          "output_type": "execute_result"
        }
      ],
      "source": [
        "y_pred = model.predict(x_test)\n",
        "y_pred"
      ]
    },
    {
      "cell_type": "code",
      "execution_count": null,
      "id": "8564d50b",
      "metadata": {
        "id": "8564d50b",
        "outputId": "79178d87-eb0c-4f0e-a6b6-f4a9b4a4bec1"
      },
      "outputs": [
        {
          "data": {
            "text/plain": [
              "0.9666666666666667"
            ]
          },
          "execution_count": 52,
          "metadata": {},
          "output_type": "execute_result"
        }
      ],
      "source": [
        "#Testing accuracy\n",
        "model.score(x_test,y_test)"
      ]
    },
    {
      "cell_type": "markdown",
      "id": "ce304a3d",
      "metadata": {
        "id": "ce304a3d"
      },
      "source": [
        "### 16) Performance metrics"
      ]
    },
    {
      "cell_type": "code",
      "execution_count": null,
      "id": "18987a14",
      "metadata": {
        "id": "18987a14"
      },
      "outputs": [],
      "source": [
        "from sklearn.metrics import accuracy_score,confusion_matrix,classification_report"
      ]
    },
    {
      "cell_type": "code",
      "execution_count": null,
      "id": "7c0d5e98",
      "metadata": {
        "id": "7c0d5e98",
        "outputId": "2d7ec128-4b87-4587-f1e4-7d1d2b4ebb7d"
      },
      "outputs": [
        {
          "data": {
            "text/plain": [
              "array([[ 5,  0,  0,  0,  0,  0,  0,  0],\n",
              "       [ 0,  9,  0,  0,  0,  0,  0,  0],\n",
              "       [ 0,  1, 11,  0,  0,  0,  0,  0],\n",
              "       [ 0,  0,  0,  8,  0,  1,  0,  0],\n",
              "       [ 0,  0,  0,  0,  6,  0,  0,  0],\n",
              "       [ 0,  0,  0,  0,  0,  4,  0,  0],\n",
              "       [ 0,  0,  0,  0,  0,  0, 10,  0],\n",
              "       [ 0,  0,  0,  0,  0,  0,  0,  5]], dtype=int64)"
            ]
          },
          "execution_count": 54,
          "metadata": {},
          "output_type": "execute_result"
        }
      ],
      "source": [
        "confusion_matrix(y_test,y_pred)\n"
      ]
    },
    {
      "cell_type": "code",
      "execution_count": null,
      "id": "622a3683",
      "metadata": {
        "id": "622a3683",
        "outputId": "27c65f2e-23d1-4fe4-9b67-1b9c6de2b937"
      },
      "outputs": [
        {
          "name": "stdout",
          "output_type": "stream",
          "text": [
            "              precision    recall  f1-score   support\n",
            "\n",
            "           0       1.00      1.00      1.00         5\n",
            "           1       0.90      1.00      0.95         9\n",
            "           2       1.00      0.92      0.96        12\n",
            "           3       1.00      0.89      0.94         9\n",
            "           4       1.00      1.00      1.00         6\n",
            "           5       0.80      1.00      0.89         4\n",
            "           6       1.00      1.00      1.00        10\n",
            "           7       1.00      1.00      1.00         5\n",
            "\n",
            "    accuracy                           0.97        60\n",
            "   macro avg       0.96      0.98      0.97        60\n",
            "weighted avg       0.97      0.97      0.97        60\n",
            "\n"
          ]
        }
      ],
      "source": [
        "print(classification_report(y_test,y_pred))"
      ]
    }
  ],
  "metadata": {
    "kernelspec": {
      "display_name": "Python 3 (ipykernel)",
      "language": "python",
      "name": "python3"
    },
    "language_info": {
      "codemirror_mode": {
        "name": "ipython",
        "version": 3
      },
      "file_extension": ".py",
      "mimetype": "text/x-python",
      "name": "python",
      "nbconvert_exporter": "python",
      "pygments_lexer": "ipython3",
      "version": "3.9.12"
    },
    "colab": {
      "provenance": []
    }
  },
  "nbformat": 4,
  "nbformat_minor": 5
}